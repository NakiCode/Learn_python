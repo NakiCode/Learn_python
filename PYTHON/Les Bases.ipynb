{
 "cells": [
  {
   "cell_type": "markdown",
   "metadata": {},
   "source": [
    "## FORMATION COMPLETE EN PROGRAMMATION AVEC LE LANGAGE PYTHON"
   ]
  },
  {
   "cell_type": "markdown",
   "metadata": {},
   "source": [
    "            Python est un langage de programmation polyvalent et facile à apprendre. \n",
    "            C'est un langage interprété, ce qui signifie qu'il n'a pas besoin d'être compilé avant d'être exécuté. \n",
    "            Python est utilisé dans de nombreux domaines tels que le développement web, le traitement de données, \n",
    "            l'intelligence artificielle, l'analyse de données et la science des données.\n",
    "\n",
    "            Voici quelques raisons pour lesquelles vous devriez apprendre Python :\n",
    "\n",
    "            1. Facilité d'apprentissage : Python a une syntaxe simple et lisible, ce qui le rend très convivial pour \n",
    "                les débutants en programmation. Sa syntaxe est proche de l'anglais, ce qui facilite la compréhension \n",
    "                et la lecture du code.\n",
    "\n",
    "            2. Large gamme d'applications : Python peut être utilisé pour développer des applications web, \n",
    "                des applications de bureau, des applications mobiles, des jeux, des scripts d'automatisation, \n",
    "                des analyses de données, des modèles d'apprentissage automatique, etc. Il est très polyvalent \n",
    "                et vous permet de développer une variété de projets.\n",
    "\n",
    "            3. Communauté active : Python bénéficie d'une vaste communauté de développeurs qui partagent leurs \n",
    "                connaissances et leur expérience à travers des forums, des sites web, des groupes de discussion, etc. \n",
    "                Cela rend facile l'accès aux ressources et au support en cas de besoin.\n",
    "\n",
    "            4. Grande quantité de bibliothèques : Python dispose d'une large gamme de bibliothèques qui simplifient \n",
    "                le développement de diverses tâches. Par exemple, la bibliothèque Django facilite le développement d'applications web, \n",
    "                la bibliothèque NumPy facilite le calcul scientifique et l'analyse de données, et la bibliothèque TensorFlow \n",
    "                facilite le développement de modèles d'apprentissage automatique."
   ]
  },
  {
   "cell_type": "markdown",
   "metadata": {},
   "source": [
    "### I. INTRODUCTION "
   ]
  },
  {
   "cell_type": "markdown",
   "metadata": {},
   "source": [
    "            a. Les Variables :\n",
    "                En Python, les variables sont utilisées pour stocker des valeurs. Une variable peut contenir différents types de données, \n",
    "                tels que des nombres, des chaînes de caractères, des listes, des dictionnaires et bien plus encore. Voici quelques détails \n",
    "                sur les variables en Python :"
   ]
  },
  {
   "cell_type": "code",
   "execution_count": null,
   "metadata": {},
   "outputs": [],
   "source": []
  },
  {
   "cell_type": "markdown",
   "metadata": {},
   "source": [
    "            * Contraintes d'écriture : \n",
    "                - Nom de variable : Le nom d'une variable peut être constitué de lettres, de chiffres et de soulignements, \n",
    "                  En Python, les variables doivent respecter certaines contraintes d'écriture :\n",
    "                    1. Les noms de variables doivent commencer par une lettre (a-z, A-Z) ou par un souligné (_).\n",
    "                    2. Les noms de variables peuvent contenir des lettres, des chiffres (0-9) et des soulignés (_).\n",
    "                    3. Les noms de variables sont sensibles à la casse, c'est-à-dire que les majuscules et les minuscules \n",
    "                      sont distinguées. Par exemple, les variables \"x\" et \"X\" sont considérées comme deux variables distinctes.\n",
    "                    4. Les mots réservés par le langage Python, tels que \"if\", \"for\", \"while\", etc., ne peuvent pas être utilisés \n",
    "                      comme noms de variables. Python possède une liste prédéfinie de mots réservés qui ne peuvent pas être utilisés \n",
    "                      à des fins autres que leur objectif spécifique. mais il ne peut pas commencer par un chiffre. \n",
    "                      De plus, Python est sensible à la casse, ce qui signifie que \"age\" et \"Age\" sont deux variables différentes.\n",
    "                - Types de données : Python est un langage typé dynamiquement, ce qui signifie que le type de variable est déterminé \n",
    "                  automatiquement selon la valeur assignée. Vous pouvez utiliser la fonction `type()` pour connaître le type d'une variable.\n",
    "                - Modification de la valeur d'une variable : Vous pouvez changer la valeur d'une variable en lui attribuant une nouvelle valeur.\n",
    "                - Portée des variables : La portée d'une variable détermine où elle peut être utilisée. En Python, les variables déclarées\n",
    "                  à l'intérieur d'une fonction ont une portée locale et ne peuvent être utilisées qu'à l'intérieur de cette fonction. \n",
    "                  Les variables déclarées en dehors de toute fonction ont une portée globale et peuvent être utilisées dans tout le programme."
   ]
  },
  {
   "cell_type": "code",
   "execution_count": null,
   "metadata": {},
   "outputs": [],
   "source": []
  },
  {
   "cell_type": "markdown",
   "metadata": {},
   "source": [
    "            *  Affichage des données : \n",
    "                Vous pouvez afficher des données à l'aide de la fonction `print()`. \n",
    "                Cette fonction accepte un ou plusieurs arguments et les affiche à la console.\n",
    "                "
   ]
  },
  {
   "cell_type": "markdown",
   "metadata": {},
   "source": [
    "                - En Python, nous pouvons afficher des données avec la fonction `print()` en utilisant le formatage de chaînes. \n",
    "                  - Utilisation de l'opérateur `%` :\n",
    "                    Pour cela, nous pouvons utiliser différents spécificateurs de format tels que `%s` (pour les chaînes), \n",
    "                    `%d` (pour les entiers), `%f` (pour les nombres à virgule flottante), `%c` (pour les caractères) et bien d'autres encore.\n",
    "                      name = \"NakiCode\"\n",
    "                      age = 25\n",
    "                      # Utilisation de %s pour insérer une chaîne et %d pour insérer un entier\n",
    "                      message = \"Je m'appelle %s et j'ai %d ans.\" % (name, age)\n",
    "                      print(message)  # \"Je m'appelle NakiCode et j'ai 25 ans.\"\n",
    "                  - Les f-strings :  également connues sous le nom de formated string literals, sont une fonctionnalité de Python introduite à \n",
    "                    partir de la version 3.6. Elles permettent d'incorporer des expressions Python dans des chaînes de caractères en utilisant \n",
    "                    une syntaxe simple et concise.\n",
    "                  - format : En Python, la fonction `format()` est utilisée pour formater une chaîne de caractères en ajoutant des variables \n",
    "                    ou des valeurs sous une certaine structure."
   ]
  },
  {
   "cell_type": "code",
   "execution_count": null,
   "metadata": {},
   "outputs": [],
   "source": []
  },
  {
   "cell_type": "markdown",
   "metadata": {},
   "source": [
    "            * Entrée utilisateur : L'instruction input() est utilisée en Python pour obtenir une entrée de l'utilisateur. \n",
    "                                Voici un exemple simple : name = input(\"Veuillez entrer votre nom: \") \n",
    "                                                            print(\"Bonjour, \" + name + \"!\")"
   ]
  },
  {
   "cell_type": "code",
   "execution_count": null,
   "metadata": {},
   "outputs": [],
   "source": []
  },
  {
   "cell_type": "markdown",
   "metadata": {},
   "source": [
    "        b. Les principaux types de données en Python :"
   ]
  },
  {
   "cell_type": "markdown",
   "metadata": {},
   "source": [
    "        * int :\n",
    "            En Python, le type int est utilisé pour représenter les nombres entiers. Il n'a pas de limite supérieure ou inférieure \n",
    "            définie car il peut prendre une valeur arbitrairement grande (limite imposée par la mémoire disponible). \n",
    "            Cependant, en pratique, il est conseillé de rester dans les limites du type de données sous-jacent du système, généralement \n",
    "            de 32 bits ou 64 bits. Les entiers en Python sont immuables, ce qui signifie qu'une fois créés, ils ne peuvent \n",
    "            pas être modifiés. Chaque modification d'un entier donnera lieu à la création d'un nouvel entier.\n",
    "            \n",
    "            Voici quelques caractéristiques et fonctions associées au type int en Python :\n",
    "\n",
    "                1. Opérations mathématiques : les opérations mathématiques courantes peuvent être effectuées avec des entiers, \n",
    "                   telles que l'addition (+), la soustraction (-), la multiplication (*), la division (/), la division entière \n",
    "                   (//) et le modulo (%)."
   ]
  },
  {
   "cell_type": "code",
   "execution_count": null,
   "metadata": {},
   "outputs": [],
   "source": []
  },
  {
   "cell_type": "markdown",
   "metadata": {},
   "source": [
    "                  2. Conversion de type : les entiers peuvent être convertis en d'autres types de données tels que les chaînes de \n",
    "                     caractères, les flottants, etc."
   ]
  },
  {
   "cell_type": "code",
   "execution_count": null,
   "metadata": {},
   "outputs": [],
   "source": []
  },
  {
   "cell_type": "markdown",
   "metadata": {},
   "source": [
    "                3. Fonctions intégrées : Python propose des fonctions intégrées pour effectuer des opérations avec des entiers, \n",
    "                   telles que `abs()` pour retourner la valeur absolue, `pow()` pour l'exponentiation, `round()` pour arrondir à \n",
    "                   l'entier le plus proche, etc."
   ]
  },
  {
   "cell_type": "code",
   "execution_count": null,
   "metadata": {},
   "outputs": [],
   "source": []
  },
  {
   "cell_type": "markdown",
   "metadata": {},
   "source": [
    "                4. Opérations de comparaison : les entiers peuvent être comparés en utilisant des opérateurs de comparaison tels que \n",
    "                `<`, `>`, `<=`, `>=`, `==` et `!=`. Les opérations de comparaison renvoient des valeurs booléennes (True ou False)."
   ]
  },
  {
   "cell_type": "code",
   "execution_count": null,
   "metadata": {},
   "outputs": [],
   "source": []
  },
  {
   "cell_type": "markdown",
   "metadata": {},
   "source": [
    "                5. Fonctions mathématiques : Python propose également un module math qui contient de nombreuses fonctions mathématiques pour \n",
    "                travailler avec les entiers, telles que `math.sqrt()`, `math.factorial()`, `math.pow()`, etc."
   ]
  },
  {
   "cell_type": "code",
   "execution_count": null,
   "metadata": {},
   "outputs": [],
   "source": []
  },
  {
   "cell_type": "markdown",
   "metadata": {},
   "source": [
    "            * float : \n",
    "                Le type de données float en Python est utilisé pour représenter des nombres à virgule flottante, c'est-à-dire des \n",
    "                nombres qui peuvent avoir une partie décimale. Il est souvent utilisé pour traiter des calculs scientifiques ou des \n",
    "                opérations mathématiques nécessitant une précision décimale.\n"
   ]
  },
  {
   "cell_type": "code",
   "execution_count": null,
   "metadata": {},
   "outputs": [],
   "source": []
  },
  {
   "cell_type": "markdown",
   "metadata": {},
   "source": [
    "            * str :\n",
    "                En Python, le type de données \"str\" est utilisé pour représenter une chaîne de caractères, c'est-à-dire une \n",
    "                séquence ordonnée de caractères Unicode. Les objets de type \"str\" sont immuables, ce qui signifie qu'ils ne \n",
    "                peuvent pas être modifiés après leur création."
   ]
  },
  {
   "cell_type": "code",
   "execution_count": null,
   "metadata": {},
   "outputs": [],
   "source": []
  },
  {
   "cell_type": "markdown",
   "metadata": {},
   "source": [
    "                1. Création d'une chaîne de caractères :\n",
    "                   On peut créer une chaîne de caractères en utilisant des guillemets simples (''), des guillemets doubles (\"\") ou \n",
    "                   des guillemets triples ('''''', \"\"\" \"\"\")."
   ]
  },
  {
   "cell_type": "code",
   "execution_count": null,
   "metadata": {},
   "outputs": [],
   "source": []
  },
  {
   "cell_type": "markdown",
   "metadata": {},
   "source": [
    "                2. Les caractères d'échappement :\n",
    "                Python utilise le caractère backslash (\\) pour échapper certains caractères spéciaux dans une chaîne de caractères."
   ]
  },
  {
   "cell_type": "code",
   "execution_count": null,
   "metadata": {},
   "outputs": [],
   "source": []
  },
  {
   "cell_type": "markdown",
   "metadata": {},
   "source": [
    "                3. Indexation et découpage de chaînes de caractères :\n",
    "                    On peut accéder aux caractères individuels d'une chaîne de caractères en utilisant l'indexation. \n",
    "                    L'index d'un caractère commence à zéro.\n",
    "                    On peut également découper une chaîne de caractères en utilisant la notation [début:fin:pas]."
   ]
  },
  {
   "cell_type": "code",
   "execution_count": null,
   "metadata": {},
   "outputs": [],
   "source": []
  },
  {
   "cell_type": "markdown",
   "metadata": {},
   "source": [
    "                4. Opérations de base sur les chaînes de caractères :\n",
    "                   On peut concaténer deux chaînes de caractères en utilisant l'opérateur \"+\". \n",
    "                   On peut également répéter une chaîne de caractères en utilisant l'opérateur \"*\"."
   ]
  },
  {
   "cell_type": "code",
   "execution_count": null,
   "metadata": {},
   "outputs": [],
   "source": []
  },
  {
   "cell_type": "markdown",
   "metadata": {},
   "source": [
    "                5. Méthodes de la classe \"str\" :\n",
    "                   La classe \"str\" fournit de nombreuses méthodes utiles pour manipuler les chaînes de caractères. \n",
    "                   Parmi les méthodes les plus couramment utilisées, on trouve :\n",
    "                        1. `capitalize()`: Cette méthode renvoie une copie de la chaîne de caractères avec la première lettre en majuscule \n",
    "                            et les autres lettres en minuscules.\n",
    "                        2. `lower()`: Cette méthode renvoie une copie de la chaîne de caractères avec toutes les lettres en minuscules.\n",
    "                        3. `upper()`: Cette méthode renvoie une copie de la chaîne de caractères avec toutes les lettres en majuscules.\n",
    "                        4. `strip()`: Cette méthode renvoie une copie de la chaîne de caractères sans les espaces blancs au début et à la fin.\n",
    "                        5. `split()`: Cette méthode renvoie une liste de sous-chaînes obtenues en divisant la chaîne de caractères en fonction \n",
    "                            d'un séparateur. Par défaut, le séparateur est l'espace.\n",
    "                        6. `join()`: Cette méthode renvoie une nouvelle chaîne de caractères résultant de la concaténation des éléments d'une \n",
    "                            séquence. La chaîne de caractères sur laquelle on appelle cette méthode est utilisée comme séparateur.\n",
    "                        7. `replace()`: Cette méthode renvoie une copie de la chaîne de caractères dans laquelle toutes les occurrences d'une \n",
    "                            sous-chaîne sont remplacées par une autre sous-chaîne.\n",
    "                        8. `startswith()`: Cette méthode renvoie \"True\" si la chaîne de caractères commence par une certaine sous-chaîne \n",
    "                            donnée, sinon elle renvoie \"False\".\n",
    "                        9. `endswith()`: Cette méthode renvoie \"True\" si la chaîne de caractères se termine par une certaine sous-chaîne \n",
    "                           donnée, sinon elle renvoie \"False\".\n",
    "                        10. `index()`: Cette méthode renvoie l'index de la première occurrence d'une sous-chaîne dans la chaîne de caractères. \n",
    "                            Si la sous-chaîne n'est pas trouvée, une erreur est levée.\n"
   ]
  },
  {
   "cell_type": "code",
   "execution_count": null,
   "metadata": {},
   "outputs": [],
   "source": []
  },
  {
   "cell_type": "markdown",
   "metadata": {},
   "source": [
    "                6. Formatage des chaînes de caractères :\n",
    "                   Python offre plusieurs méthodes pour formater les chaînes de caractères, notamment en utilisant les méthodes \n",
    "                   \"format()\" et les \"f-strings\"."
   ]
  },
  {
   "cell_type": "code",
   "execution_count": null,
   "metadata": {},
   "outputs": [],
   "source": []
  },
  {
   "cell_type": "markdown",
   "metadata": {},
   "source": [
    "            * bool :\n",
    "                En Python, le type booléen, aussi connu sous le nom de type bool, représente les valeurs de vérité, \n",
    "                c'est-à-dire les valeurs de vrai ou faux.\n",
    "                Les valeurs booléennes sont représentées par les mots-clés `True` et `False`. Il est important de noter \n",
    "                que les mots-clés `True` et `False` doivent toujours être écrits avec une première lettre en majuscule.\n",
    "                Les opérations booléennes courantes en Python incluent la conjonction (`and`), la disjonction (`or`) et \n",
    "                la négation (`not`). Voici quelques exemples :\n",
    "                    - `True and False` renvoie `False` car les deux conditions ne sont pas remplies.\n",
    "                    - `True or False` renvoie `True` car au moins une des conditions est remplie.\n",
    "                    - `not True` renvoie `False` car la négation d'une valeur `True` est `False`.\n",
    "                Les opérations de comparaison comme l'égalité (`==`), l'inégalité (`!=`), l'infériorité (`<`), la supériorité (`>`), \n",
    "                l'infériorité ou égalité (`<=`) et la supériorité ou égalité (`>=`) renvoient également des valeurs booléennes."
   ]
  },
  {
   "cell_type": "code",
   "execution_count": null,
   "metadata": {},
   "outputs": [],
   "source": []
  },
  {
   "cell_type": "markdown",
   "metadata": {},
   "source": [
    "                * opérateurs :\n",
    "                        1. Opérateur d'appartenance :\n",
    "                        Appartient (in) : permet de vérifier si une valeur est présente dans une liste, un tuple ou une chaîne de caractères.\n",
    "                        2. Opérateur d'identité :\n",
    "                        Identique (is) : permet de vérifier si deux objets sont identiques."
   ]
  },
  {
   "cell_type": "code",
   "execution_count": null,
   "metadata": {},
   "outputs": [],
   "source": []
  },
  {
   "cell_type": "markdown",
   "metadata": {},
   "source": [
    "            c. Structure de controle :\n",
    "                En Python, il existe plusieurs structures de contrôle qui permettent de gérer l'exécution conditionnelle ou \n",
    "                répétitive du code. Voici les principales structures de contrôle en Python :"
   ]
  },
  {
   "cell_type": "markdown",
   "metadata": {},
   "source": [
    "                1. La structure conditionnelle \"if-else\" :\n",
    "                    La structure \"if-else\" permet d'exécuter certaines instructions si une condition est vérifiée, \n",
    "                    et d'autres instructions si la condition n'est pas vérifiée"
   ]
  },
  {
   "cell_type": "code",
   "execution_count": null,
   "metadata": {},
   "outputs": [],
   "source": []
  },
  {
   "cell_type": "markdown",
   "metadata": {},
   "source": [
    "                2. La structure conditionnelle \"if-elif-else\" :\n",
    "                    La structure \"if-elif-else\" est utilisée lorsque l'on a plusieurs conditions à vérifier et que l'on \n",
    "                    souhaite exécuter des instructions différentes pour chacune des conditions."
   ]
  },
  {
   "cell_type": "code",
   "execution_count": null,
   "metadata": {},
   "outputs": [],
   "source": []
  },
  {
   "cell_type": "markdown",
   "metadata": {},
   "source": [
    "                        2.1. Depuis Python 3.10, vous pouvez utiliser le nouvel opérateur `match case` pour effectuer des correspondances de motifs \n",
    "                            (pattern matching) dans vos programmes. Cet opérateur facilite la gestion des multiples cas d'une manière plus lisible \n",
    "                            et concise."
   ]
  },
  {
   "cell_type": "code",
   "execution_count": null,
   "metadata": {},
   "outputs": [],
   "source": []
  },
  {
   "cell_type": "markdown",
   "metadata": {},
   "source": [
    "                3. La boucle \"while\" :\n",
    "                   La boucle \"while\" permet de répéter l'exécution d'un ensemble d'instructions tant qu'une condition est vérifiée."
   ]
  },
  {
   "cell_type": "code",
   "execution_count": null,
   "metadata": {},
   "outputs": [],
   "source": []
  },
  {
   "cell_type": "markdown",
   "metadata": {},
   "source": [
    "                4. La boucle \"for\" :\n",
    "                    La boucle \"for\" permet de répéter l'exécution d'un ensemble d'instructions pour chaque élément d'une séquence \n",
    "                    (liste, tuple, chaîne de caractères, etc.)."
   ]
  },
  {
   "cell_type": "code",
   "execution_count": null,
   "metadata": {},
   "outputs": [],
   "source": []
  },
  {
   "cell_type": "markdown",
   "metadata": {},
   "source": [
    "                5. Les instructions de contrôle \"break\" et \"continue\" :\n",
    "                    L'instruction \"break\" permet de sortir immédiatement de la boucle la plus proche, \n",
    "                    alors que l'instruction \"continue\" permet de passer à l'itération suivante de la boucle sans \n",
    "                    exécuter le reste du code à l'intérieur de la boucle."
   ]
  },
  {
   "cell_type": "code",
   "execution_count": null,
   "metadata": {},
   "outputs": [],
   "source": []
  },
  {
   "cell_type": "markdown",
   "metadata": {},
   "source": [
    "        d. Les  structures des donnéess : \n",
    "            Python propose plusieurs structures de données pour manipuler des collections d'éléments.\n",
    "            Les collections sont des structures de données qui permettent de stocker et de manipuler plusieurs éléments. \n",
    "            Voici les principales :"
   ]
  },
  {
   "cell_type": "markdown",
   "metadata": {},
   "source": [
    "                1. Liste (List) : En Python, une liste est une structure de données qui permet de stocker une collection ordonnée \n",
    "                                 et mutable d'éléments, de différents types. Une liste peut contenir des entiers, des flottants, \n",
    "                                 des chaînes de caractères, des booléens, voire même d'autres listes.\n",
    "                                 La syntaxe pour créer une liste est d'encadrer les éléments avec des crochets [], séparés par des virgules."
   ]
  },
  {
   "cell_type": "code",
   "execution_count": null,
   "metadata": {},
   "outputs": [],
   "source": []
  },
  {
   "cell_type": "markdown",
   "metadata": {},
   "source": [
    "                    - Les éléments d'une liste peuvent être accédés individuellement en utilisant leur index. \n",
    "                      L'indexage commence à zéro, donc le premier élément a un index de 0, le deuxième a un index de 1, et ainsi de suite. "
   ]
  },
  {
   "cell_type": "code",
   "execution_count": null,
   "metadata": {},
   "outputs": [],
   "source": []
  },
  {
   "cell_type": "markdown",
   "metadata": {},
   "source": [
    "                    - Les listes peuvent être modifiées, c'est-à-dire qu'on peut ajouter, supprimer ou modifier des éléments existants."
   ]
  },
  {
   "cell_type": "code",
   "execution_count": null,
   "metadata": {},
   "outputs": [],
   "source": []
  },
  {
   "cell_type": "markdown",
   "metadata": {},
   "source": [
    "                    - De plus, il est possible de réaliser des opérations sur les listes telles que la concaténation (avec l'opérateur \"+\") \n",
    "                      et la répétition (avec l'opérateur \"*\"). "
   ]
  },
  {
   "cell_type": "code",
   "execution_count": null,
   "metadata": {},
   "outputs": [],
   "source": []
  },
  {
   "cell_type": "markdown",
   "metadata": {},
   "source": [
    "                    - En Python, les méthodes suivantes sont couramment utilisées pour manipuler des listes "
   ]
  },
  {
   "cell_type": "markdown",
   "metadata": {},
   "source": [
    "                        1. append(): Ajoute un élément à la fin de la liste."
   ]
  },
  {
   "cell_type": "code",
   "execution_count": null,
   "metadata": {},
   "outputs": [],
   "source": []
  },
  {
   "cell_type": "markdown",
   "metadata": {},
   "source": [
    "                        2. insert(): Insère un élément à une position donnée de la liste."
   ]
  },
  {
   "cell_type": "code",
   "execution_count": null,
   "metadata": {},
   "outputs": [],
   "source": []
  },
  {
   "cell_type": "markdown",
   "metadata": {},
   "source": [
    "                        3. remove(): Supprime la première occurrence d'un élément donné de la liste"
   ]
  },
  {
   "cell_type": "code",
   "execution_count": null,
   "metadata": {},
   "outputs": [],
   "source": []
  },
  {
   "cell_type": "markdown",
   "metadata": {},
   "source": [
    "                        4. pop(): Supprime et retourne l'élément à une position donnée de la liste. Si aucune position \n",
    "                        n'est spécifiée, le dernier élément est supprimé."
   ]
  },
  {
   "cell_type": "code",
   "execution_count": null,
   "metadata": {},
   "outputs": [],
   "source": []
  },
  {
   "cell_type": "markdown",
   "metadata": {},
   "source": [
    "                        5. index(): Retourne l'indice de la première occurrence d'un élément donné dans la liste."
   ]
  },
  {
   "cell_type": "code",
   "execution_count": null,
   "metadata": {},
   "outputs": [],
   "source": []
  },
  {
   "cell_type": "markdown",
   "metadata": {},
   "source": [
    "                        6. count(): Retourne le nombre d'occurrences d'un élément donné dans la liste."
   ]
  },
  {
   "cell_type": "code",
   "execution_count": null,
   "metadata": {},
   "outputs": [],
   "source": []
  },
  {
   "cell_type": "markdown",
   "metadata": {},
   "source": [
    "                        7. sort(): Trie les éléments de la liste par ordre croissant."
   ]
  },
  {
   "cell_type": "code",
   "execution_count": null,
   "metadata": {},
   "outputs": [],
   "source": []
  },
  {
   "cell_type": "markdown",
   "metadata": {},
   "source": [
    "                2. le tuple : \n",
    "                    En Python, un tuple est une séquence immuable, c'est-à-dire qu'il ne peut pas être modifié une \n",
    "                    fois créé. Un tuple est représenté par des valeurs séparées par des virgules et est généralement \n",
    "                    délimité par des parenthèses.\n",
    "                    Cependant, comme un tuple est immuable, on ne peut pas modifier ses valeurs ou en ajouter de nouvelles. \n",
    "                    Si l'on tente de le faire, Python lèvera une erreur."
   ]
  },
  {
   "cell_type": "code",
   "execution_count": null,
   "metadata": {},
   "outputs": [],
   "source": []
  },
  {
   "cell_type": "markdown",
   "metadata": {},
   "source": [
    "                    Quelques méthodes couramment utilisées pour les tuples sont les suivantes :\n",
    "\n",
    "                    1. `len(tuple)`: Retourne la longueur du tuple, c'est-à-dire le nombre d'éléments qu'il contient.\n",
    "                    2. `tuple.count(element)`: Retourne le nombre de fois où un élément apparaît dans le tuple.\n",
    "                    3. `tuple.index(element)`: Retourne l'indice de la première occurrence d'un élément dans le tuple.\n",
    "                    4. `tuple + other_tuple`: Concatène deux tuples en créant un nouveau tuple.\n",
    "                    5. `tuple * n`: Répète le tuple n fois en créant un nouveau tuple."
   ]
  },
  {
   "cell_type": "code",
   "execution_count": null,
   "metadata": {},
   "outputs": [],
   "source": []
  },
  {
   "cell_type": "markdown",
   "metadata": {},
   "source": [
    "                3. Le dictoinnaire :\n",
    "                    Un dictionnaire en Python est une structure de données qui permet de stocker des valeurs associées à des clés. \n",
    "                    Il est défini par des accolades {} et les éléments sont séparés par des virgules. Chaque élément est constitué \n",
    "                    d'une clé et de sa valeur associée, séparés par deux points (:)."
   ]
  },
  {
   "cell_type": "code",
   "execution_count": null,
   "metadata": {},
   "outputs": [],
   "source": []
  },
  {
   "cell_type": "markdown",
   "metadata": {},
   "source": [
    "                    On peut accéder à la valeur associée à une clé en utilisant la notation entre crochets [] ou la méthode get()."
   ]
  },
  {
   "cell_type": "code",
   "execution_count": null,
   "metadata": {},
   "outputs": [],
   "source": []
  },
  {
   "cell_type": "markdown",
   "metadata": {},
   "source": [
    "                    On peut aussi modifier la valeur associée à une clé ou ajouter de nouvelles paires clé-valeur :"
   ]
  },
  {
   "cell_type": "code",
   "execution_count": null,
   "metadata": {},
   "outputs": [],
   "source": []
  },
  {
   "cell_type": "markdown",
   "metadata": {},
   "source": [
    "                    Pour parcourir les clés et les valeurs d'un dictionnaire, on peut utiliser une boucle for :"
   ]
  },
  {
   "cell_type": "code",
   "execution_count": null,
   "metadata": {},
   "outputs": [],
   "source": []
  },
  {
   "cell_type": "markdown",
   "metadata": {},
   "source": [
    "                    Il existe plusieurs méthodes dans les dictionnaires en Python. Voici quelques-unes des méthodes les plus couramment utilisées :\n"
   ]
  },
  {
   "cell_type": "markdown",
   "metadata": {},
   "source": [
    "                        1. keys() : Cette méthode renvoie une vue d'ensemble des clés présentes dans le dictionnaire."
   ]
  },
  {
   "cell_type": "code",
   "execution_count": null,
   "metadata": {},
   "outputs": [],
   "source": []
  },
  {
   "cell_type": "markdown",
   "metadata": {},
   "source": [
    "                        2. values() : Cette méthode renvoie une vue d'ensemble des valeurs présentes dans le dictionnaire."
   ]
  },
  {
   "cell_type": "code",
   "execution_count": null,
   "metadata": {},
   "outputs": [],
   "source": []
  },
  {
   "cell_type": "markdown",
   "metadata": {},
   "source": [
    "                        3. items() : Cette méthode renvoie une vue d'ensemble des paires clé-valeur présentes dans le dictionnaire."
   ]
  },
  {
   "cell_type": "code",
   "execution_count": null,
   "metadata": {},
   "outputs": [],
   "source": []
  },
  {
   "cell_type": "markdown",
   "metadata": {},
   "source": [
    "                        4. get() : Cette méthode renvoie la valeur associée à une clé spécifiée. Si la clé n'existe pas, elle renvoie une \n",
    "                                   valeur par défaut (optionnelle)."
   ]
  },
  {
   "cell_type": "code",
   "execution_count": null,
   "metadata": {},
   "outputs": [],
   "source": []
  },
  {
   "cell_type": "markdown",
   "metadata": {},
   "source": [
    "                        5. update() : Cette méthode met à jour le dictionnaire en ajoutant de nouvelles paires clé-valeur ou en \n",
    "                                      modifiant les valeurs existantes."
   ]
  },
  {
   "cell_type": "code",
   "execution_count": null,
   "metadata": {},
   "outputs": [],
   "source": []
  },
  {
   "cell_type": "markdown",
   "metadata": {},
   "source": [
    "                        6. pop() : Cette méthode supprime la paire clé-valeur associée à la clé spécifiée et renvoie la valeur correspondante."
   ]
  },
  {
   "cell_type": "code",
   "execution_count": null,
   "metadata": {},
   "outputs": [],
   "source": []
  },
  {
   "cell_type": "markdown",
   "metadata": {},
   "source": [
    "            4. Le set : \n",
    "                Un set (ou ensemble) en Python est une collection non ordonnée d'éléments uniques. \n",
    "                Les éléments d'un set sont immuables, ce qui signifie qu'ils ne peuvent pas être modifiés \n",
    "                une fois qu'ils ont été ajoutés à l'ensemble.\n",
    "                Pour créer un set en Python, on utilise les accolades {}. Par exemple : mon_set = {1, 2, 3, 4, 5}\n",
    "                Il est également possible de créer un set vide en utilisant la fonction set(). Par exemple : mon_set_vide = set()"
   ]
  },
  {
   "cell_type": "code",
   "execution_count": null,
   "metadata": {},
   "outputs": [],
   "source": []
  },
  {
   "cell_type": "markdown",
   "metadata": {},
   "source": [
    "                        Pour ajouter des éléments à un set, on utilise la méthode add()."
   ]
  },
  {
   "cell_type": "code",
   "execution_count": null,
   "metadata": {},
   "outputs": [],
   "source": []
  },
  {
   "cell_type": "markdown",
   "metadata": {},
   "source": [
    "                        Pour supprimer un élément d'un set, on utilise la méthode remove()."
   ]
  },
  {
   "cell_type": "code",
   "execution_count": null,
   "metadata": {},
   "outputs": [],
   "source": []
  },
  {
   "cell_type": "markdown",
   "metadata": {},
   "source": [
    "                        On peut aussi utiliser les méthodes union(), intersection() et difference() pour effectuer des opérations \n",
    "                        ensemblistes sur les sets."
   ]
  },
  {
   "cell_type": "code",
   "execution_count": null,
   "metadata": {},
   "outputs": [],
   "source": []
  },
  {
   "cell_type": "markdown",
   "metadata": {},
   "source": [
    "                    Voici quelques-unes des méthodes couramment utilisées pour manipuler les sets en Python :\n",
    "\n",
    "                        - set() : crée un nouvel ensemble vide.\n",
    "                        - add(element) : ajoute un nouvel élément à l'ensemble.\n",
    "                        - update(iterable) : ajoute tous les éléments d'un itérable à l'ensemble.\n",
    "                        - remove(element) : supprime un élément spécifié de l'ensemble. Si l'élément n'existe pas, une erreur est levée.\n",
    "                        - discard(element) : supprime un élément spécifié de l'ensemble. S'il n'existe pas, aucune erreur n'est levée.\n",
    "                        - pop() : supprime un élément au hasard de l'ensemble et le renvoie. Si l'ensemble est vide, une erreur est levée.\n",
    "                        - clear() : supprime tous les éléments de l'ensemble.\n",
    "                        - len() : renvoie le nombre d'éléments dans l'ensemble.\n",
    "                        - in : vérifie si un élément spécifié est présent dans l'ensemble et renvoie True ou False.\n",
    "                        - union() : renvoie un nouvel ensemble contenant tous les éléments des deux ensembles spécifiés.\n",
    "                        - intersection() : renvoie un nouvel ensemble contenant les éléments communs des deux ensembles spécifiés.\n",
    "                        - difference() : renvoie un nouvel ensemble contenant les éléments de l'ensemble d'origine qui ne sont pas \n",
    "                          présents dans l'ensemble spécifié.\n",
    "                        - symmetric_difference() : renvoie un nouvel ensemble contenant les éléments qui sont présents dans l'un des \n",
    "                          ensembles mais pas dans les deux.\n",
    "                        - issubset() : vérifie si l'ensemble spécifié est un sous-ensemble de l'ensemble d'origine.\n",
    "                        - issuperset() : vérifie si l'ensemble d'origine est un super-ensemble de l'ensemble spécifié.\n"
   ]
  },
  {
   "cell_type": "code",
   "execution_count": null,
   "metadata": {},
   "outputs": [],
   "source": []
  },
  {
   "cell_type": "markdown",
   "metadata": {},
   "source": [
    "EXERCICES"
   ]
  },
  {
   "cell_type": "markdown",
   "metadata": {},
   "source": [
    "            Voici une liste de 25 exercices sur la structure des données, les structures de contrôle, \n",
    "            les listes, les dictionnaires, les tuples et les ensembles en Python :\n",
    "\n",
    "            1. Écrivez un programme Python pour afficher les nombres de 1 à 10.\n",
    "            2. Écrivez un programme Python pour calculer la somme de deux nombres.\n",
    "            3. Écrivez un programme Python qui vérifie si un nombre est positif, nul ou négatif.\n",
    "            4. Écrivez un programme Python pour créer une liste vide et ajoutez-y des éléments avec une boucle.\n",
    "            5. Écrivez un programme Python pour trouver la plus grande valeur dans une liste.\n",
    "            6. Écrivez un programme Python pour trouver la somme de tous les éléments d'une liste.\n",
    "            7. Écrivez un programme Python qui compte le nombre d'occurrences d'un élément dans une liste.\n",
    "            8. Écrivez un programme Python pour inverser une liste.\n",
    "            9. Écrivez un programme Python pour trier une liste de nombres.\n",
    "            10. Écrivez un programme Python pour fusionner deux listes triées en une seule liste triée.\n",
    "            11. Écrivez un programme Python pour créer un dictionnaire vide et ajoutez-y des clés et des valeurs avec une boucle.\n",
    "            12. Écrivez un programme Python pour parcourir toutes les clés d'un dictionnaire et affichez les valeurs correspondantes.\n",
    "            13. Écrivez un programme Python qui vérifie si une clé existe dans un dictionnaire.\n",
    "            14. Écrivez un programme Python pour trier un dictionnaire par ses clés.\n",
    "            15. Écrivez un programme Python pour fusionner deux dictionnaires en un seul.\n",
    "            16. Écrivez un programme Python pour créer un tuple contenant des éléments de différents types de données.\n",
    "            17. Écrivez un programme Python pour accéder à un élément spécifique dans un tuple.\n",
    "            18. Écrivez un programme Python pour vérifier si un élément existe dans un tuple.\n",
    "            19. Écrivez un programme Python pour concaténer deux tuples.\n",
    "            20. Écrivez un programme Python pour ajouter des éléments à un ensemble.\n",
    "            21. Écrivez un programme Python pour supprimer un élément d'un ensemble.\n",
    "            22. Écrivez un programme Python pour obtenir l'intersection de deux ensembles.\n",
    "            23. Écrivez un programme Python pour vérifier si un ensemble est vide.\n",
    "            24. Écrivez un programme Python pour supprimer tous les éléments d'un ensemble.\n",
    "            25. Écrivez un programme Python pour trier les éléments d'un ensemble.\n",
    "\n",
    "            Ce sont 25 exercices variés couvrant différents aspects des structures de données et des structures de contrôle en Python. Amusez-vous bien à les résoudre !\n"
   ]
  }
 ],
 "metadata": {
  "language_info": {
   "name": "python"
  },
  "orig_nbformat": 4
 },
 "nbformat": 4,
 "nbformat_minor": 2
}
